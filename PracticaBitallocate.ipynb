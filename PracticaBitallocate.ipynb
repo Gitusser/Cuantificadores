{
 "cells": [
  {
   "cell_type": "markdown",
   "metadata": {},
   "source": [
    "# OPTIMIZACIÓN DE CUANTIFICADORES "
   ]
  },
  {
   "cell_type": "markdown",
   "metadata": {},
   "source": [
    "## MÉTODO LAGRANGE -  BIT ALLOCATE"
   ]
  },
  {
   "cell_type": "markdown",
   "metadata": {},
   "source": [
    "### 1.- Importar librerias necesarias para el desarrollo del ejemplo"
   ]
  },
  {
   "cell_type": "code",
   "execution_count": 4,
   "metadata": {},
   "outputs": [],
   "source": [
    "import urllib.request\n",
    "import math\n",
    "import cv2\n",
    "import numpy as np\n",
    "from matplotlib import pyplot as plt\n",
    "import skimage.metrics\n",
    "import scipy.stats\n",
    "import os\n",
    "import sys\n",
    "import os.path as pathnuevo\n",
    "import shutil"
   ]
  },
  {
   "cell_type": "markdown",
   "metadata": {},
   "source": [
    "### 2.- Creamos los directorios "
   ]
  },
  {
   "cell_type": "code",
   "execution_count": 2,
   "metadata": {},
   "outputs": [],
   "source": [
    "for i in [0,1,2]:\n",
    "    directorio= \"/multimedia/imagenescuantificadas\"+str(i)\n",
    "    if pathnuevo.exists(directorio):\n",
    "        #os.rmdir(directorio)\n",
    "        #shutil.rmtree(directorio)\n",
    "        shutil.rmtree(directorio, ignore_errors=True)"
   ]
  },
  {
   "cell_type": "markdown",
   "metadata": {},
   "source": [
    "### 3.- Limpiamos los directorios - Almacenan imagenes cuantificadas"
   ]
  },
  {
   "cell_type": "code",
   "execution_count": null,
   "metadata": {},
   "outputs": [],
   "source": [
    "for i in [0,1,2]:\n",
    "    for j in [0,1,2,3,4,5,6,7]:\n",
    "        comand= \"rm -rf /multimedia/imagenescuantificadasbanda\"+str(i)+str(j)+\"/H*00\"+str(j)+\".png\"\n",
    "        print(comand)\n",
    "        os.system(comand)\n",
    "        comand= \"rm -rf /multimedia/imagenescuantificadasbanda\"+str(i)+str(j)+\"/L*00\"+str(j)+\".png\"\n",
    "        print(comand)\n",
    "        os.system(comand)"
   ]
  },
  {
   "cell_type": "markdown",
   "metadata": {},
   "source": [
    "### 4.- Función para aplicar cuantizadores (\"midtread\"-\"midrise\"-\"deadzone\")  "
   ]
  },
  {
   "cell_type": "code",
   "execution_count": null,
   "metadata": {},
   "outputs": [],
   "source": [
    " def quantificacion(i):\n",
    "    print (i)\n",
    "    q_step=\"120\"\n",
    "    directorio= \"/multimedia/imagenescuantificadas\"+str(i)\n",
    "    os.makedirs(directorio)\n",
    "    path=\"python3 ../tools/quantize.py -i /multimedia/imagenestransformadamcdwt/LL000.png -o \"+directorio+\"/LL000.png -q \"+str(q_step)+\" -c \"+str(i) \n",
    "    os.system(path)\n",
    "    path=\"python3 ../tools/quantize.py -i /multimedia/imagenestransformadamcdwt/LH000.png -o \"+directorio+\"/LH000.png -q\" +str(q_step)+\" -c \"+str(i) \n",
    "    os.system(path)\n",
    "    path=\"python3 ../tools/quantize.py -i /multimedia/imagenestransformadamcdwt/HL000.png -o \"+directorio+\"/HL000.png -q\" +str(q_step)+\" -c \"+str(i) \n",
    "    os.system(path)\n",
    "    path=\"python3 ../tools/quantize.py -i /multimedia/imagenestransformadamcdwt/HH000.png -o \"+directorio+\"/HH000.png -q\" +str(q_step)+\" -c \"+str(i) \n",
    "    os.system(path)\n",
    "    path=\"python3 ../tools/quantize.py -i /multimedia/imagenestransformadamcdwt/LL001.png -o \"+directorio+\"/LL001.png -q\" +str(q_step)+\" -c \"+str(i) \n",
    "    os.system(path)\n",
    "    path=\"python3 ../tools/quantize.py -i /multimedia/imagenestransformadamcdwt/LH001.png -o \"+directorio+\"/LH001.png -q\" +str(q_step)+\" -c \"+str(i) \n",
    "    os.system(path)\n",
    "    path=\"python3 ../tools/quantize.py -i /multimedia/imagenestransformadamcdwt/HL001.png -o \"+directorio+\"/HL001.png -q\" +str(q_step)+\" -c \"+str(i) \n",
    "    os.system(path)\n",
    "    path=\"python3 ../tools/quantize.py -i /multimedia/imagenestransformadamcdwt/HH001.png -o \"+directorio+\"/HH001.png -q\" +str(q_step)+\" -c \"+str(i) \n",
    "    os.system(path)\n",
    "    path=\"python3 ../tools/quantize.py -i /multimedia/imagenestransformadamcdwt/LL002.png -o \"+directorio+\"/LL002.png -q\" +str(q_step)+\" -c \"+str(i) \n",
    "    os.system(path)\n",
    "    path=\"python3 ../tools/quantize.py -i /multimedia/imagenestransformadamcdwt/LH002.png -o \"+directorio+\"/LH002.png -q\" +str(q_step)+\" -c \"+str(i) \n",
    "    os.system(path)\n",
    "    path=\"python3 ../tools/quantize.py -i /multimedia/imagenestransformadamcdwt/HL002.png -o \"+directorio+\"/HL002.png -q\" +str(q_step)+\" -c \"+str(i) \n",
    "    os.system(path)\n",
    "    path=\"python3 ../tools/quantize.py -i /multimedia/imagenestransformadamcdwt/HH002.png -o \"+directorio+\"/HH002.png -q\" +str(q_step)+\" -c \"+str(i) \n",
    "    os.system(path)\n",
    "    path=\"python3 ../tools/quantize.py -i /multimedia/imagenestransformadamcdwt/LL003.png -o \"+directorio+\"/LL003.png -q\" +str(q_step)+\" -c \"+str(i) \n",
    "    os.system(path)\n",
    "    path=\"python3 ../tools/quantize.py -i /multimedia/imagenestransformadamcdwt/LH003.png -o \"+directorio+\"/LH003.png -q\" +str(q_step)+\" -c \"+str(i) \n",
    "    os.system(path)\n",
    "    path=\"python3 ../tools/quantize.py -i /multimedia/imagenestransformadamcdwt/HL003.png -o \"+directorio+\"/HL003.png -q\" +str(q_step)+\" -c \"+str(i) \n",
    "    os.system(path)\n",
    "    path=\"python3 ../tools/quantize.py -i /multimedia/imagenestransformadamcdwt/HH003.png -o \"+directorio+\"/HH003.png -q\" +str(q_step)+\" -c \"+str(i) \n",
    "    os.system(path)\n",
    "    path=\"python3 ../tools/quantize.py -i /multimedia/imagenestransformadamcdwt/LL004.png -o \"+directorio+\"/LL004.png -q\" +str(q_step)+\" -c \"+str(i) \n",
    "    os.system(path)\n",
    "    path=\"python3 ../tools/quantize.py -i /multimedia/imagenestransformadamcdwt/LH004.png -o \"+directorio+\"/LH004.png -q\" +str(q_step)+\" -c \"+str(i) \n",
    "    os.system(path)\n",
    "    path=\"python3 ../tools/quantize.py -i /multimedia/imagenestransformadamcdwt/HL004.png -o \"+directorio+\"/HL004.png -q\" +str(q_step)+\" -c \"+str(i) \n",
    "    os.system(path)\n",
    "    path=\"python3 ../tools/quantize.py -i /multimedia/imagenestransformadamcdwt/HH004.png -o \"+directorio+\"/HH004.png -q\" +str(q_step)+\" -c \"+str(i) \n",
    "    os.system(path)\n",
    "    path=\"python3 ../tools/quantize.py -i /multimedia/imagenestransformadamcdwt/LL005.png -o \"+directorio+\"/LL005.png -q\" +str(q_step)+\" -c \"+str(i) \n",
    "    os.system(path)\n",
    "    path=\"python3 ../tools/quantize.py -i /multimedia/imagenestransformadamcdwt/LH005.png -o \"+directorio+\"/LH005.png -q\" +str(q_step)+\" -c \"+str(i) \n",
    "    os.system(path)\n",
    "    path=\"python3 ../tools/quantize.py -i /multimedia/imagenestransformadamcdwt/HL005.png -o \"+directorio+\"/HL005.png -q\" +str(q_step)+\" -c \"+str(i) \n",
    "    os.system(path)\n",
    "    path=\"python3 ../tools/quantize.py -i /multimedia/imagenestransformadamcdwt/HH005.png -o \"+directorio+\"/HH005.png -q\" +str(q_step)+\" -c \"+str(i) \n",
    "    os.system(path)\n",
    "    path=\"python3 ../tools/quantize.py -i /multimedia/imagenestransformadamcdwt/LL006.png -o \"+directorio+\"/LL006.png -q\" +str(q_step)+\" -c \"+str(i) \n",
    "    os.system(path)\n",
    "    path=\"python3 ../tools/quantize.py -i /multimedia/imagenestransformadamcdwt/LH006.png -o \"+directorio+\"/LH006.png -q\" +str(q_step)+\" -c \"+str(i) \n",
    "    os.system(path)\n",
    "    path=\"python3 ../tools/quantize.py -i /multimedia/imagenestransformadamcdwt/HL006.png -o \"+directorio+\"/HL006.png -q\" +str(q_step)+\" -c \"+str(i) \n",
    "    os.system(path)\n",
    "    path=\"python3 ../tools/quantize.py -i /multimedia/imagenestransformadamcdwt/HH006.png -o \"+directorio+\"/HH006.png -q\" +str(q_step)+\" -c \"+str(i) \n",
    "    os.system(path)\n",
    "    path=\"python3 ../tools/quantize.py -i /multimedia/imagenestransformadamcdwt/LL007.png -o \"+directorio+\"/LL007.png -q\" +str(q_step)+\" -c \"+str(i) \n",
    "    os.system(path)\n",
    "    path=\"python3 ../tools/quantize.py -i /multimedia/imagenestransformadamcdwt/LH007.png -o \"+directorio+\"/LH007.png -q\" +str(q_step)+\" -c \"+str(i) \n",
    "    os.system(path)\n",
    "    path=\"python3 ../tools/quantize.py -i /multimedia/imagenestransformadamcdwt/HL007.png -o \"+directorio+\"/HL007.png -q\" +str(q_step)+\" -c \"+str(i) \n",
    "    os.system(path)\n",
    "    path=\"python3 ../tools/quantize.py -i /multimedia/imagenestransformadamcdwt/HH007.png -o \"+directorio+\"/HH007.png -q\" +str(q_step)+\" -c \"+str(i) \n",
    "    os.system(path)"
   ]
  },
  {
   "cell_type": "markdown",
   "metadata": {},
   "source": [
    "### 5.- Instanciamos función \"quantificacion\""
   ]
  },
  {
   "cell_type": "code",
   "execution_count": null,
   "metadata": {},
   "outputs": [],
   "source": [
    "for i in [0,1,2]:\n",
    "    quantificacion(i)"
   ]
  },
  {
   "cell_type": "markdown",
   "metadata": {},
   "source": [
    "### 6.- Proceso que setea las imagenes a \"peso 0\" y las clasifica en diferentes directorios"
   ]
  },
  {
   "cell_type": "code",
   "execution_count": 38,
   "metadata": {
    "scrolled": true
   },
   "outputs": [
    {
     "name": "stdout",
     "output_type": "stream",
     "text": [
      "cp -r /multimedia/imagenescuantificadas2/LL000.png /multimedia/imagenescuantificadasbanda20LL/LL000.png\n",
      "LL----\n",
      "dd if=/multimedia/imagenescuantificadas2/HL000.png of=/multimedia/imagenescuantificadasbanda20LL/HL000.png bs=1 count=0\n",
      "LL----\n",
      "dd if=/multimedia/imagenescuantificadas2/LH000.png of=/multimedia/imagenescuantificadasbanda20LL/LH000.png bs=1 count=0\n",
      "LL----\n",
      "dd if=/multimedia/imagenescuantificadas2/HH000.png of=/multimedia/imagenescuantificadasbanda20LL/HH000.png bs=1 count=0\n",
      "LL----\n",
      "dd if=/multimedia/imagenescuantificadas2/LL000.png of=/multimedia/imagenescuantificadasbanda20HL/LL000.png bs=1 count=0\n",
      "HL----\n",
      "cp -r /multimedia/imagenescuantificadas2/HL000.png /multimedia/imagenescuantificadasbanda20HL/HL000.png\n",
      "HL----\n",
      "dd if=/multimedia/imagenescuantificadas2/LH000.png of=/multimedia/imagenescuantificadasbanda20HL/LH000.png bs=1 count=0\n",
      "HL----\n",
      "dd if=/multimedia/imagenescuantificadas2/HH000.png of=/multimedia/imagenescuantificadasbanda20HL/HH000.png bs=1 count=0\n",
      "HL----\n",
      "dd if=/multimedia/imagenescuantificadas2/LL000.png of=/multimedia/imagenescuantificadasbanda20LH/LL000.png bs=1 count=0\n",
      "LH----\n",
      "dd if=/multimedia/imagenescuantificadas2/HL000.png of=/multimedia/imagenescuantificadasbanda20LH/HL000.png bs=1 count=0\n",
      "LH----\n",
      "cp -r /multimedia/imagenescuantificadas2/LH000.png /multimedia/imagenescuantificadasbanda20LH/LH000.png\n",
      "LH----\n",
      "dd if=/multimedia/imagenescuantificadas2/HH000.png of=/multimedia/imagenescuantificadasbanda20LH/HH000.png bs=1 count=0\n",
      "LH----\n",
      "dd if=/multimedia/imagenescuantificadas2/LL000.png of=/multimedia/imagenescuantificadasbanda20HH/LL000.png bs=1 count=0\n",
      "HH----\n",
      "dd if=/multimedia/imagenescuantificadas2/HL000.png of=/multimedia/imagenescuantificadasbanda20HH/HL000.png bs=1 count=0\n",
      "HH----\n",
      "dd if=/multimedia/imagenescuantificadas2/LH000.png of=/multimedia/imagenescuantificadasbanda20HH/LH000.png bs=1 count=0\n",
      "HH----\n",
      "cp -r /multimedia/imagenescuantificadas2/HH000.png /multimedia/imagenescuantificadasbanda20HH/HH000.png\n",
      "HH----\n",
      "cp -r /multimedia/imagenescuantificadas2/LL001.png /multimedia/imagenescuantificadasbanda21LL/LL001.png\n",
      "LL----\n",
      "dd if=/multimedia/imagenescuantificadas2/HL001.png of=/multimedia/imagenescuantificadasbanda21LL/HL001.png bs=1 count=0\n",
      "LL----\n",
      "dd if=/multimedia/imagenescuantificadas2/LH001.png of=/multimedia/imagenescuantificadasbanda21LL/LH001.png bs=1 count=0\n",
      "LL----\n",
      "dd if=/multimedia/imagenescuantificadas2/HH001.png of=/multimedia/imagenescuantificadasbanda21LL/HH001.png bs=1 count=0\n",
      "LL----\n",
      "dd if=/multimedia/imagenescuantificadas2/LL001.png of=/multimedia/imagenescuantificadasbanda21HL/LL001.png bs=1 count=0\n",
      "HL----\n",
      "cp -r /multimedia/imagenescuantificadas2/HL001.png /multimedia/imagenescuantificadasbanda21HL/HL001.png\n",
      "HL----\n",
      "dd if=/multimedia/imagenescuantificadas2/LH001.png of=/multimedia/imagenescuantificadasbanda21HL/LH001.png bs=1 count=0\n",
      "HL----\n",
      "dd if=/multimedia/imagenescuantificadas2/HH001.png of=/multimedia/imagenescuantificadasbanda21HL/HH001.png bs=1 count=0\n",
      "HL----\n",
      "dd if=/multimedia/imagenescuantificadas2/LL001.png of=/multimedia/imagenescuantificadasbanda21LH/LL001.png bs=1 count=0\n",
      "LH----\n",
      "dd if=/multimedia/imagenescuantificadas2/HL001.png of=/multimedia/imagenescuantificadasbanda21LH/HL001.png bs=1 count=0\n",
      "LH----\n",
      "cp -r /multimedia/imagenescuantificadas2/LH001.png /multimedia/imagenescuantificadasbanda21LH/LH001.png\n",
      "LH----\n",
      "dd if=/multimedia/imagenescuantificadas2/HH001.png of=/multimedia/imagenescuantificadasbanda21LH/HH001.png bs=1 count=0\n",
      "LH----\n",
      "dd if=/multimedia/imagenescuantificadas2/LL001.png of=/multimedia/imagenescuantificadasbanda21HH/LL001.png bs=1 count=0\n",
      "HH----\n",
      "dd if=/multimedia/imagenescuantificadas2/HL001.png of=/multimedia/imagenescuantificadasbanda21HH/HL001.png bs=1 count=0\n",
      "HH----\n",
      "dd if=/multimedia/imagenescuantificadas2/LH001.png of=/multimedia/imagenescuantificadasbanda21HH/LH001.png bs=1 count=0\n",
      "HH----\n",
      "cp -r /multimedia/imagenescuantificadas2/HH001.png /multimedia/imagenescuantificadasbanda21HH/HH001.png\n",
      "HH----\n",
      "cp -r /multimedia/imagenescuantificadas2/LL002.png /multimedia/imagenescuantificadasbanda22LL/LL002.png\n",
      "LL----\n",
      "dd if=/multimedia/imagenescuantificadas2/HL002.png of=/multimedia/imagenescuantificadasbanda22LL/HL002.png bs=1 count=0\n",
      "LL----\n",
      "dd if=/multimedia/imagenescuantificadas2/LH002.png of=/multimedia/imagenescuantificadasbanda22LL/LH002.png bs=1 count=0\n",
      "LL----\n",
      "dd if=/multimedia/imagenescuantificadas2/HH002.png of=/multimedia/imagenescuantificadasbanda22LL/HH002.png bs=1 count=0\n",
      "LL----\n",
      "dd if=/multimedia/imagenescuantificadas2/LL002.png of=/multimedia/imagenescuantificadasbanda22HL/LL002.png bs=1 count=0\n",
      "HL----\n",
      "cp -r /multimedia/imagenescuantificadas2/HL002.png /multimedia/imagenescuantificadasbanda22HL/HL002.png\n",
      "HL----\n",
      "dd if=/multimedia/imagenescuantificadas2/LH002.png of=/multimedia/imagenescuantificadasbanda22HL/LH002.png bs=1 count=0\n",
      "HL----\n",
      "dd if=/multimedia/imagenescuantificadas2/HH002.png of=/multimedia/imagenescuantificadasbanda22HL/HH002.png bs=1 count=0\n",
      "HL----\n",
      "dd if=/multimedia/imagenescuantificadas2/LL002.png of=/multimedia/imagenescuantificadasbanda22LH/LL002.png bs=1 count=0\n",
      "LH----\n",
      "dd if=/multimedia/imagenescuantificadas2/HL002.png of=/multimedia/imagenescuantificadasbanda22LH/HL002.png bs=1 count=0\n",
      "LH----\n",
      "cp -r /multimedia/imagenescuantificadas2/LH002.png /multimedia/imagenescuantificadasbanda22LH/LH002.png\n",
      "LH----\n",
      "dd if=/multimedia/imagenescuantificadas2/HH002.png of=/multimedia/imagenescuantificadasbanda22LH/HH002.png bs=1 count=0\n",
      "LH----\n",
      "dd if=/multimedia/imagenescuantificadas2/LL002.png of=/multimedia/imagenescuantificadasbanda22HH/LL002.png bs=1 count=0\n",
      "HH----\n",
      "dd if=/multimedia/imagenescuantificadas2/HL002.png of=/multimedia/imagenescuantificadasbanda22HH/HL002.png bs=1 count=0\n",
      "HH----\n",
      "dd if=/multimedia/imagenescuantificadas2/LH002.png of=/multimedia/imagenescuantificadasbanda22HH/LH002.png bs=1 count=0\n",
      "HH----\n",
      "cp -r /multimedia/imagenescuantificadas2/HH002.png /multimedia/imagenescuantificadasbanda22HH/HH002.png\n",
      "HH----\n",
      "cp -r /multimedia/imagenescuantificadas2/LL003.png /multimedia/imagenescuantificadasbanda23LL/LL003.png\n",
      "LL----\n",
      "dd if=/multimedia/imagenescuantificadas2/HL003.png of=/multimedia/imagenescuantificadasbanda23LL/HL003.png bs=1 count=0\n",
      "LL----\n",
      "dd if=/multimedia/imagenescuantificadas2/LH003.png of=/multimedia/imagenescuantificadasbanda23LL/LH003.png bs=1 count=0\n",
      "LL----\n",
      "dd if=/multimedia/imagenescuantificadas2/HH003.png of=/multimedia/imagenescuantificadasbanda23LL/HH003.png bs=1 count=0\n",
      "LL----\n",
      "dd if=/multimedia/imagenescuantificadas2/LL003.png of=/multimedia/imagenescuantificadasbanda23HL/LL003.png bs=1 count=0\n",
      "HL----\n",
      "cp -r /multimedia/imagenescuantificadas2/HL003.png /multimedia/imagenescuantificadasbanda23HL/HL003.png\n",
      "HL----\n",
      "dd if=/multimedia/imagenescuantificadas2/LH003.png of=/multimedia/imagenescuantificadasbanda23HL/LH003.png bs=1 count=0\n",
      "HL----\n",
      "dd if=/multimedia/imagenescuantificadas2/HH003.png of=/multimedia/imagenescuantificadasbanda23HL/HH003.png bs=1 count=0\n",
      "HL----\n",
      "dd if=/multimedia/imagenescuantificadas2/LL003.png of=/multimedia/imagenescuantificadasbanda23LH/LL003.png bs=1 count=0\n",
      "LH----\n",
      "dd if=/multimedia/imagenescuantificadas2/HL003.png of=/multimedia/imagenescuantificadasbanda23LH/HL003.png bs=1 count=0\n",
      "LH----\n",
      "cp -r /multimedia/imagenescuantificadas2/LH003.png /multimedia/imagenescuantificadasbanda23LH/LH003.png\n",
      "LH----\n",
      "dd if=/multimedia/imagenescuantificadas2/HH003.png of=/multimedia/imagenescuantificadasbanda23LH/HH003.png bs=1 count=0\n",
      "LH----\n",
      "dd if=/multimedia/imagenescuantificadas2/LL003.png of=/multimedia/imagenescuantificadasbanda23HH/LL003.png bs=1 count=0\n",
      "HH----\n",
      "dd if=/multimedia/imagenescuantificadas2/HL003.png of=/multimedia/imagenescuantificadasbanda23HH/HL003.png bs=1 count=0\n",
      "HH----\n",
      "dd if=/multimedia/imagenescuantificadas2/LH003.png of=/multimedia/imagenescuantificadasbanda23HH/LH003.png bs=1 count=0\n",
      "HH----\n",
      "cp -r /multimedia/imagenescuantificadas2/HH003.png /multimedia/imagenescuantificadasbanda23HH/HH003.png\n",
      "HH----\n",
      "cp -r /multimedia/imagenescuantificadas2/LL004.png /multimedia/imagenescuantificadasbanda24LL/LL004.png\n",
      "LL----\n",
      "dd if=/multimedia/imagenescuantificadas2/HL004.png of=/multimedia/imagenescuantificadasbanda24LL/HL004.png bs=1 count=0\n",
      "LL----\n",
      "dd if=/multimedia/imagenescuantificadas2/LH004.png of=/multimedia/imagenescuantificadasbanda24LL/LH004.png bs=1 count=0\n",
      "LL----\n",
      "dd if=/multimedia/imagenescuantificadas2/HH004.png of=/multimedia/imagenescuantificadasbanda24LL/HH004.png bs=1 count=0\n",
      "LL----\n",
      "dd if=/multimedia/imagenescuantificadas2/LL004.png of=/multimedia/imagenescuantificadasbanda24HL/LL004.png bs=1 count=0\n",
      "HL----\n",
      "cp -r /multimedia/imagenescuantificadas2/HL004.png /multimedia/imagenescuantificadasbanda24HL/HL004.png\n",
      "HL----\n",
      "dd if=/multimedia/imagenescuantificadas2/LH004.png of=/multimedia/imagenescuantificadasbanda24HL/LH004.png bs=1 count=0\n",
      "HL----\n",
      "dd if=/multimedia/imagenescuantificadas2/HH004.png of=/multimedia/imagenescuantificadasbanda24HL/HH004.png bs=1 count=0\n",
      "HL----\n",
      "dd if=/multimedia/imagenescuantificadas2/LL004.png of=/multimedia/imagenescuantificadasbanda24LH/LL004.png bs=1 count=0\n",
      "LH----\n",
      "dd if=/multimedia/imagenescuantificadas2/HL004.png of=/multimedia/imagenescuantificadasbanda24LH/HL004.png bs=1 count=0\n",
      "LH----\n",
      "cp -r /multimedia/imagenescuantificadas2/LH004.png /multimedia/imagenescuantificadasbanda24LH/LH004.png\n",
      "LH----\n",
      "dd if=/multimedia/imagenescuantificadas2/HH004.png of=/multimedia/imagenescuantificadasbanda24LH/HH004.png bs=1 count=0\n",
      "LH----\n",
      "dd if=/multimedia/imagenescuantificadas2/LL004.png of=/multimedia/imagenescuantificadasbanda24HH/LL004.png bs=1 count=0\n",
      "HH----\n",
      "dd if=/multimedia/imagenescuantificadas2/HL004.png of=/multimedia/imagenescuantificadasbanda24HH/HL004.png bs=1 count=0\n",
      "HH----\n",
      "dd if=/multimedia/imagenescuantificadas2/LH004.png of=/multimedia/imagenescuantificadasbanda24HH/LH004.png bs=1 count=0\n",
      "HH----\n",
      "cp -r /multimedia/imagenescuantificadas2/HH004.png /multimedia/imagenescuantificadasbanda24HH/HH004.png\n",
      "HH----\n",
      "cp -r /multimedia/imagenescuantificadas2/LL005.png /multimedia/imagenescuantificadasbanda25LL/LL005.png\n",
      "LL----\n",
      "dd if=/multimedia/imagenescuantificadas2/HL005.png of=/multimedia/imagenescuantificadasbanda25LL/HL005.png bs=1 count=0\n",
      "LL----\n",
      "dd if=/multimedia/imagenescuantificadas2/LH005.png of=/multimedia/imagenescuantificadasbanda25LL/LH005.png bs=1 count=0\n",
      "LL----\n",
      "dd if=/multimedia/imagenescuantificadas2/HH005.png of=/multimedia/imagenescuantificadasbanda25LL/HH005.png bs=1 count=0\n",
      "LL----\n",
      "dd if=/multimedia/imagenescuantificadas2/LL005.png of=/multimedia/imagenescuantificadasbanda25HL/LL005.png bs=1 count=0\n",
      "HL----\n",
      "cp -r /multimedia/imagenescuantificadas2/HL005.png /multimedia/imagenescuantificadasbanda25HL/HL005.png\n",
      "HL----\n",
      "dd if=/multimedia/imagenescuantificadas2/LH005.png of=/multimedia/imagenescuantificadasbanda25HL/LH005.png bs=1 count=0\n",
      "HL----\n",
      "dd if=/multimedia/imagenescuantificadas2/HH005.png of=/multimedia/imagenescuantificadasbanda25HL/HH005.png bs=1 count=0\n",
      "HL----\n",
      "dd if=/multimedia/imagenescuantificadas2/LL005.png of=/multimedia/imagenescuantificadasbanda25LH/LL005.png bs=1 count=0\n",
      "LH----\n",
      "dd if=/multimedia/imagenescuantificadas2/HL005.png of=/multimedia/imagenescuantificadasbanda25LH/HL005.png bs=1 count=0\n",
      "LH----\n",
      "cp -r /multimedia/imagenescuantificadas2/LH005.png /multimedia/imagenescuantificadasbanda25LH/LH005.png\n",
      "LH----\n",
      "dd if=/multimedia/imagenescuantificadas2/HH005.png of=/multimedia/imagenescuantificadasbanda25LH/HH005.png bs=1 count=0\n",
      "LH----\n",
      "dd if=/multimedia/imagenescuantificadas2/LL005.png of=/multimedia/imagenescuantificadasbanda25HH/LL005.png bs=1 count=0\n",
      "HH----\n",
      "dd if=/multimedia/imagenescuantificadas2/HL005.png of=/multimedia/imagenescuantificadasbanda25HH/HL005.png bs=1 count=0\n",
      "HH----\n",
      "dd if=/multimedia/imagenescuantificadas2/LH005.png of=/multimedia/imagenescuantificadasbanda25HH/LH005.png bs=1 count=0\n",
      "HH----\n",
      "cp -r /multimedia/imagenescuantificadas2/HH005.png /multimedia/imagenescuantificadasbanda25HH/HH005.png\n",
      "HH----\n",
      "cp -r /multimedia/imagenescuantificadas2/LL006.png /multimedia/imagenescuantificadasbanda26LL/LL006.png\n",
      "LL----\n",
      "dd if=/multimedia/imagenescuantificadas2/HL006.png of=/multimedia/imagenescuantificadasbanda26LL/HL006.png bs=1 count=0\n",
      "LL----\n",
      "dd if=/multimedia/imagenescuantificadas2/LH006.png of=/multimedia/imagenescuantificadasbanda26LL/LH006.png bs=1 count=0\n",
      "LL----\n",
      "dd if=/multimedia/imagenescuantificadas2/HH006.png of=/multimedia/imagenescuantificadasbanda26LL/HH006.png bs=1 count=0\n",
      "LL----\n",
      "dd if=/multimedia/imagenescuantificadas2/LL006.png of=/multimedia/imagenescuantificadasbanda26HL/LL006.png bs=1 count=0\n",
      "HL----\n",
      "cp -r /multimedia/imagenescuantificadas2/HL006.png /multimedia/imagenescuantificadasbanda26HL/HL006.png\n",
      "HL----\n",
      "dd if=/multimedia/imagenescuantificadas2/LH006.png of=/multimedia/imagenescuantificadasbanda26HL/LH006.png bs=1 count=0\n",
      "HL----\n",
      "dd if=/multimedia/imagenescuantificadas2/HH006.png of=/multimedia/imagenescuantificadasbanda26HL/HH006.png bs=1 count=0\n",
      "HL----\n",
      "dd if=/multimedia/imagenescuantificadas2/LL006.png of=/multimedia/imagenescuantificadasbanda26LH/LL006.png bs=1 count=0\n",
      "LH----\n",
      "dd if=/multimedia/imagenescuantificadas2/HL006.png of=/multimedia/imagenescuantificadasbanda26LH/HL006.png bs=1 count=0\n",
      "LH----\n",
      "cp -r /multimedia/imagenescuantificadas2/LH006.png /multimedia/imagenescuantificadasbanda26LH/LH006.png\n",
      "LH----\n"
     ]
    },
    {
     "name": "stdout",
     "output_type": "stream",
     "text": [
      "dd if=/multimedia/imagenescuantificadas2/HH006.png of=/multimedia/imagenescuantificadasbanda26LH/HH006.png bs=1 count=0\n",
      "LH----\n",
      "dd if=/multimedia/imagenescuantificadas2/LL006.png of=/multimedia/imagenescuantificadasbanda26HH/LL006.png bs=1 count=0\n",
      "HH----\n",
      "dd if=/multimedia/imagenescuantificadas2/HL006.png of=/multimedia/imagenescuantificadasbanda26HH/HL006.png bs=1 count=0\n",
      "HH----\n",
      "dd if=/multimedia/imagenescuantificadas2/LH006.png of=/multimedia/imagenescuantificadasbanda26HH/LH006.png bs=1 count=0\n",
      "HH----\n",
      "cp -r /multimedia/imagenescuantificadas2/HH006.png /multimedia/imagenescuantificadasbanda26HH/HH006.png\n",
      "HH----\n",
      "cp -r /multimedia/imagenescuantificadas2/LL007.png /multimedia/imagenescuantificadasbanda27LL/LL007.png\n",
      "LL----\n",
      "dd if=/multimedia/imagenescuantificadas2/HL007.png of=/multimedia/imagenescuantificadasbanda27LL/HL007.png bs=1 count=0\n",
      "LL----\n",
      "dd if=/multimedia/imagenescuantificadas2/LH007.png of=/multimedia/imagenescuantificadasbanda27LL/LH007.png bs=1 count=0\n",
      "LL----\n",
      "dd if=/multimedia/imagenescuantificadas2/HH007.png of=/multimedia/imagenescuantificadasbanda27LL/HH007.png bs=1 count=0\n",
      "LL----\n",
      "dd if=/multimedia/imagenescuantificadas2/LL007.png of=/multimedia/imagenescuantificadasbanda27HL/LL007.png bs=1 count=0\n",
      "HL----\n",
      "cp -r /multimedia/imagenescuantificadas2/HL007.png /multimedia/imagenescuantificadasbanda27HL/HL007.png\n",
      "HL----\n",
      "dd if=/multimedia/imagenescuantificadas2/LH007.png of=/multimedia/imagenescuantificadasbanda27HL/LH007.png bs=1 count=0\n",
      "HL----\n",
      "dd if=/multimedia/imagenescuantificadas2/HH007.png of=/multimedia/imagenescuantificadasbanda27HL/HH007.png bs=1 count=0\n",
      "HL----\n",
      "dd if=/multimedia/imagenescuantificadas2/LL007.png of=/multimedia/imagenescuantificadasbanda27LH/LL007.png bs=1 count=0\n",
      "LH----\n",
      "dd if=/multimedia/imagenescuantificadas2/HL007.png of=/multimedia/imagenescuantificadasbanda27LH/HL007.png bs=1 count=0\n",
      "LH----\n",
      "cp -r /multimedia/imagenescuantificadas2/LH007.png /multimedia/imagenescuantificadasbanda27LH/LH007.png\n",
      "LH----\n",
      "dd if=/multimedia/imagenescuantificadas2/HH007.png of=/multimedia/imagenescuantificadasbanda27LH/HH007.png bs=1 count=0\n",
      "LH----\n",
      "dd if=/multimedia/imagenescuantificadas2/LL007.png of=/multimedia/imagenescuantificadasbanda27HH/LL007.png bs=1 count=0\n",
      "HH----\n",
      "dd if=/multimedia/imagenescuantificadas2/HL007.png of=/multimedia/imagenescuantificadasbanda27HH/HL007.png bs=1 count=0\n",
      "HH----\n",
      "dd if=/multimedia/imagenescuantificadas2/LH007.png of=/multimedia/imagenescuantificadasbanda27HH/LH007.png bs=1 count=0\n",
      "HH----\n",
      "cp -r /multimedia/imagenescuantificadas2/HH007.png /multimedia/imagenescuantificadasbanda27HH/HH007.png\n",
      "HH----\n"
     ]
    }
   ],
   "source": [
    "i=2\n",
    "#subbanda=[LL,HL,LH,HH]\n",
    "for j in [0,1,2,3,4,5,6,7]:\n",
    "    for k in [\"LL\",\"HL\",\"LH\",\"HH\"]:\n",
    "        if k == \"LL\":\n",
    "            for l in [\"LL\",\"HL\",\"LH\",\"HH\"]: \n",
    "                if l ==\"LL\":\n",
    "                    comand= \"cp -r /multimedia/imagenescuantificadas\"+str(i)+\"/\"+str(l)+\"00\"+str(j)+\".png /multimedia/imagenescuantificadasbanda\"+str(i)+str(j)+str(k)+\"/\"+str(l)+\"00\"+str(j)+\".png\"\n",
    "                    print(comand)\n",
    "                    os.system(comand)\n",
    "                    print(k+\"----\")\n",
    "                else:\n",
    "                    comand= \"dd if=/multimedia/imagenescuantificadas\"+str(i)+\"/\"+str(l)+\"00\"+str(j)+\".png of=/multimedia/imagenescuantificadasbanda\"+str(i)+str(j)+str(k)+\"/\"+str(l)+\"00\"+str(j)+\".png bs=1 count=0\"\n",
    "                    os.system(comand)\n",
    "                    print (comand)\n",
    "                    print(k+\"----\")\n",
    "        elif k == \"HL\":  \n",
    "            for l in [\"LL\",\"HL\",\"LH\",\"HH\"]: \n",
    "                if l ==\"HL\":\n",
    "                    comand= \"cp -r /multimedia/imagenescuantificadas\"+str(i)+\"/\"+str(l)+\"00\"+str(j)+\".png /multimedia/imagenescuantificadasbanda\"+str(i)+str(j)+str(k)+\"/\"+str(l)+\"00\"+str(j)+\".png\"\n",
    "                    print(comand)\n",
    "                    os.system(comand)\n",
    "                    print(k+\"----\")\n",
    "                else:\n",
    "                    comand= \"dd if=/multimedia/imagenescuantificadas\"+str(i)+\"/\"+str(l)+\"00\"+str(j)+\".png of=/multimedia/imagenescuantificadasbanda\"+str(i)+str(j)+str(k)+\"/\"+str(l)+\"00\"+str(j)+\".png bs=1 count=0\"\n",
    "                    os.system(comand)\n",
    "                    print (comand)\n",
    "                    print(k+\"----\")\n",
    "            \n",
    "        elif k == \"LH\":\n",
    "             for l in [\"LL\",\"HL\",\"LH\",\"HH\"]: \n",
    "                if l ==\"LH\":\n",
    "                    comand= \"cp -r /multimedia/imagenescuantificadas\"+str(i)+\"/\"+str(l)+\"00\"+str(j)+\".png /multimedia/imagenescuantificadasbanda\"+str(i)+str(j)+str(k)+\"/\"+str(l)+\"00\"+str(j)+\".png\"\n",
    "                    print(comand)\n",
    "                    os.system(comand)\n",
    "                    print(k+\"----\")\n",
    "                else:\n",
    "                    comand= \"dd if=/multimedia/imagenescuantificadas\"+str(i)+\"/\"+str(l)+\"00\"+str(j)+\".png of=/multimedia/imagenescuantificadasbanda\"+str(i)+str(j)+str(k)+\"/\"+str(l)+\"00\"+str(j)+\".png bs=1 count=0\"\n",
    "                    os.system(comand)\n",
    "                    print (comand)\n",
    "                    print(k+\"----\")\n",
    "                    #comand= \"cp -r /multimedia/imagenescuantificadas\"+str(i)+\"/\"+str(l)+\"00\"+str(j)+\".png /multimedia/imagenescuantificadasbanda\"+str(i)+str(j)+str(k)+\"/\"+str(l)+\"00\"+str(j)+\".png\"\n",
    "                    #print(comand)\n",
    "                    #os.system(comand)\n",
    "        elif k == \"HH\":\n",
    "            for l in [\"LL\",\"HL\",\"LH\",\"HH\"]: \n",
    "                if l ==\"HH\":\n",
    "                    comand= \"cp -r /multimedia/imagenescuantificadas\"+str(i)+\"/\"+str(l)+\"00\"+str(j)+\".png /multimedia/imagenescuantificadasbanda\"+str(i)+str(j)+str(k)+\"/\"+str(l)+\"00\"+str(j)+\".png\"\n",
    "                    print(comand)\n",
    "                    os.system(comand)\n",
    "                    print(k+\"----\")\n",
    "                else:\n",
    "                    comand= \"dd if=/multimedia/imagenescuantificadas\"+str(i)+\"/\"+str(l)+\"00\"+str(j)+\".png of=/multimedia/imagenescuantificadasbanda\"+str(i)+str(j)+str(k)+\"/\"+str(l)+\"00\"+str(j)+\".png bs=1 count=0\"\n",
    "                    os.system(comand)\n",
    "                    print (comand)\n",
    "                    print(k+\"----\")"
   ]
  },
  {
   "cell_type": "markdown",
   "metadata": {},
   "source": [
    "### 7.- Aplicamos Transformada Inversa  "
   ]
  },
  {
   "cell_type": "code",
   "execution_count": 34,
   "metadata": {},
   "outputs": [
    {
     "name": "stdout",
     "output_type": "stream",
     "text": [
      "/multimedia/imagenescuantificadasbanda20LL\n",
      "python3 -O MCDWT.py -P 2-p /multimedia/imagenescuantificadasbanda20LL/ -b -N 7\n",
      "/multimedia/imagenescuantificadasbanda20HL\n",
      "python3 -O MCDWT.py -P 2-p /multimedia/imagenescuantificadasbanda20HL/ -b -N 7\n",
      "/multimedia/imagenescuantificadasbanda20LH\n",
      "python3 -O MCDWT.py -P 2-p /multimedia/imagenescuantificadasbanda20LH/ -b -N 7\n",
      "/multimedia/imagenescuantificadasbanda20HH\n",
      "python3 -O MCDWT.py -P 2-p /multimedia/imagenescuantificadasbanda20HH/ -b -N 7\n",
      "/multimedia/imagenescuantificadasbanda21LL\n",
      "python3 -O MCDWT.py -P 2-p /multimedia/imagenescuantificadasbanda21LL/ -b -N 7\n",
      "/multimedia/imagenescuantificadasbanda21HL\n",
      "python3 -O MCDWT.py -P 2-p /multimedia/imagenescuantificadasbanda21HL/ -b -N 7\n",
      "/multimedia/imagenescuantificadasbanda21LH\n",
      "python3 -O MCDWT.py -P 2-p /multimedia/imagenescuantificadasbanda21LH/ -b -N 7\n",
      "/multimedia/imagenescuantificadasbanda21HH\n",
      "python3 -O MCDWT.py -P 2-p /multimedia/imagenescuantificadasbanda21HH/ -b -N 7\n"
     ]
    }
   ],
   "source": [
    "predictor=2\n",
    "for k in [\"LL\",\"HL\",\"LH\",\"HH\"]:\n",
    "    directorion=\"/multimedia/imagenescuantificadasbandaconsolidada\"+str(k)\n",
    "    path2=\"python3 -O MCDWT.py -P \"+str(predictor)+ \" -p \"+directorion+\"/ -b -N 7\" \n",
    "    os.system(path2)\n",
    "    print (path2)\n",
    "    path3=\"python3 -O MDWT.py -p \"+directorion+\"/ -b -N 8\"\n",
    "    os.system(path3)\n",
    "    print (path3)"
   ]
  },
  {
   "cell_type": "markdown",
   "metadata": {},
   "source": [
    "### 8.- Inicializamos la lista de Imagenes \"x\""
   ]
  },
  {
   "cell_type": "code",
   "execution_count": 5,
   "metadata": {},
   "outputs": [
    {
     "name": "stdout",
     "output_type": "stream",
     "text": [
      "/multimedia/imagenesoriginales/000.png\n",
      "/multimedia/imagenesoriginales/001.png\n",
      "/multimedia/imagenesoriginales/002.png\n",
      "/multimedia/imagenesoriginales/003.png\n",
      "/multimedia/imagenesoriginales/004.png\n",
      "/multimedia/imagenesoriginales/005.png\n",
      "/multimedia/imagenesoriginales/006.png\n",
      "/multimedia/imagenesoriginales/007.png\n"
     ]
    }
   ],
   "source": [
    "listaImgsEjex=[]\n",
    "for i in [0,1,2,3,4,5,6,7]:\n",
    "    path = r'/multimedia/imagenesoriginales/00'+str(i)+'.png'\n",
    "    print (path)\n",
    "    listaImgsEjex=cv2.imread(path)\n",
    "    #plt.imshow(listaImgsEjex[i], cmap=\"gray\")"
   ]
  },
  {
   "cell_type": "markdown",
   "metadata": {},
   "source": [
    "### 9.- Función que calcula el tamaño de directorio "
   ]
  },
  {
   "cell_type": "code",
   "execution_count": 10,
   "metadata": {},
   "outputs": [],
   "source": [
    "def get_dir_size(the_path):\n",
    "    \"\"\"Get size of a directory tree in bytes.\"\"\"\n",
    "    path_size = 0\n",
    "    for path, dirs, files in os.walk(the_path):\n",
    "        for fil in files:\n",
    "            filename = os.path.join(path, fil)\n",
    "            path_size += os.path.getsize(filename)\n",
    "    return path_size\n",
    "#tmoriginal = get_dir_size('/multimedia/imagenescuantificadasbanda02/')"
   ]
  },
  {
   "cell_type": "markdown",
   "metadata": {},
   "source": [
    "### 10.- Inicializamos las lista para almecenar los puntos para las gráficas"
   ]
  },
  {
   "cell_type": "code",
   "execution_count": 11,
   "metadata": {},
   "outputs": [],
   "source": [
    "listaMseXc1=[]\n",
    "listaMseXc2=[]\n",
    "listaMseYc1=[]\n",
    "listaMseYc2=[]"
   ]
  },
  {
   "cell_type": "markdown",
   "metadata": {},
   "source": [
    "### 11.- Proceso para calcular (MSE) y llenar las listas "
   ]
  },
  {
   "cell_type": "code",
   "execution_count": 12,
   "metadata": {},
   "outputs": [
    {
     "name": "stdout",
     "output_type": "stream",
     "text": [
      "/multimedia/imagenescuantificadasbandaconsolidadaLL/000.png\n",
      "/multimedia/imagenescuantificadasbanda20LL/\n",
      "103149\n",
      "3429.15056818\n",
      "/multimedia/imagenescuantificadasbandaconsolidadaLL/001.png\n",
      "/multimedia/imagenescuantificadasbanda21LL/\n",
      "15625\n",
      "3451.41761364\n",
      "/multimedia/imagenescuantificadasbandaconsolidadaLL/002.png\n",
      "/multimedia/imagenescuantificadasbanda22LL/\n",
      "15744\n",
      "3476.11931818\n",
      "/multimedia/imagenescuantificadasbandaconsolidadaLL/003.png\n",
      "/multimedia/imagenescuantificadasbanda23LL/\n",
      "15715\n",
      "3486.94981061\n",
      "/multimedia/imagenescuantificadasbandaconsolidadaLL/004.png\n",
      "/multimedia/imagenescuantificadasbanda24LL/\n",
      "15709\n",
      "3506.64393939\n",
      "/multimedia/imagenescuantificadasbandaconsolidadaLL/005.png\n",
      "/multimedia/imagenescuantificadasbanda25LL/\n",
      "15777\n",
      "3549.51893939\n",
      "/multimedia/imagenescuantificadasbandaconsolidadaLL/006.png\n",
      "/multimedia/imagenescuantificadasbanda26LL/\n",
      "15727\n",
      "3584.57859848\n",
      "/multimedia/imagenescuantificadasbandaconsolidadaLL/007.png\n",
      "/multimedia/imagenescuantificadasbanda27LL/\n",
      "15768\n",
      "3705.25568182\n",
      "/multimedia/imagenescuantificadasbandaconsolidadaLH/000.png\n",
      "/multimedia/imagenescuantificadasbanda20LH/\n",
      "2338\n",
      "3429.15056818\n",
      "/multimedia/imagenescuantificadasbandaconsolidadaLH/001.png\n",
      "/multimedia/imagenescuantificadasbanda21LH/\n",
      "674\n",
      "3451.41761364\n",
      "/multimedia/imagenescuantificadasbandaconsolidadaLH/002.png\n",
      "/multimedia/imagenescuantificadasbanda22LH/\n",
      "674\n",
      "3476.11931818\n",
      "/multimedia/imagenescuantificadasbandaconsolidadaLH/003.png\n",
      "/multimedia/imagenescuantificadasbanda23LH/\n",
      "674\n",
      "3486.94981061\n",
      "/multimedia/imagenescuantificadasbandaconsolidadaLH/004.png\n",
      "/multimedia/imagenescuantificadasbanda24LH/\n",
      "674\n",
      "3506.64393939\n",
      "/multimedia/imagenescuantificadasbandaconsolidadaLH/005.png\n",
      "/multimedia/imagenescuantificadasbanda25LH/\n",
      "674\n",
      "3549.51893939\n",
      "/multimedia/imagenescuantificadasbandaconsolidadaLH/006.png\n",
      "/multimedia/imagenescuantificadasbanda26LH/\n",
      "674\n",
      "3584.57859848\n",
      "/multimedia/imagenescuantificadasbandaconsolidadaLH/007.png\n",
      "/multimedia/imagenescuantificadasbanda27LH/\n",
      "674\n",
      "3705.25568182\n",
      "Dominio de imagen MSE X C1 [103149, 15625, 15744, 15715, 15709, 15777, 15727, 15768]\n",
      "Dominio de imagen MSE X C2 [2338, 674, 674, 674, 674, 674, 674, 674]\n",
      "Dominio de imagen MSE Y C1 [3429.150568181818, 3451.4176136363635, 3476.119318181818, 3486.9498106060605, 3506.6439393939395, 3549.5189393939395, 3584.5785984848485, 3705.255681818182]\n",
      "Dominio de imagen MSE Y C2 [3429.150568181818, 3451.4176136363635, 3476.119318181818, 3486.9498106060605, 3506.6439393939395, 3549.5189393939395, 3584.5785984848485, 3705.255681818182]\n"
     ]
    }
   ],
   "source": [
    "i=2\n",
    "for k in [\"LL\",\"LH\"]:\n",
    "    for j in [0,1,2,3,4,5,6,7]:\n",
    "        pathc = \"/multimedia/imagenescuantificadasbandaconsolidada\"+str(k)+\"/00\"+str(j)+\".png\"\n",
    "        #pathc = \"/multimedia/imagenescuantificadasbandaconsolidadaLL/00.png\"\n",
    "        print (pathc)\n",
    "        y = cv2.imread(pathc)[0,:,:]\n",
    "        #!display -normalize y\n",
    "        x = listaImgsEjex[j]\n",
    "        MSE = skimage.metrics.mean_squared_error(x,y)\n",
    "        path =\"/multimedia/imagenescuantificadasbanda\"+str(i)+str(j)+str(k)+\"/\"\n",
    "        print (path)\n",
    "        #sizefile = os.path.getsize(pathb)\n",
    "        #listaMSEx.append(sizefile/1000)\n",
    "        tmcuantificada = get_dir_size(path)\n",
    "        if k == \"LL\":\n",
    "            listaMseXc1.append(tmcuantificada)\n",
    "            print(tmcuantificada)\n",
    "            listaMseYc1.append(MSE)\n",
    "            print(MSE)\n",
    "        elif k == \"LH\":\n",
    "            listaMseXc2.append(tmcuantificada)\n",
    "            print(tmcuantificada)\n",
    "            listaMseYc2.append(MSE)\n",
    "            print(MSE)\n",
    "            \n",
    "print(\"Dominio de imagen MSE X C1\",listaMseXc1)\n",
    "print(\"Dominio de imagen MSE X C2\",listaMseXc2)\n",
    "print(\"Dominio de imagen MSE Y C1\",listaMseYc1)\n",
    "print(\"Dominio de imagen MSE Y C2\",listaMseYc2)"
   ]
  },
  {
   "cell_type": "markdown",
   "metadata": {},
   "source": [
    "### 12.- Función para realizar la grafica de la banda \"LL\""
   ]
  },
  {
   "cell_type": "code",
   "execution_count": 14,
   "metadata": {},
   "outputs": [
    {
     "name": "stdout",
     "output_type": "stream",
     "text": [
      "[15625, 15709, 15715, 15727, 15744, 15768]\n",
      "[3705.255681818182, 3584.5785984848485, 3549.5189393939395, 3506.6439393939395, 3486.9498106060605, 3476.119318181818]\n"
     ]
    },
    {
     "data": {
      "image/png": "[encoded data removed]",
      "text/plain": [
       "<Figure size 432x288 with 1 Axes>"
      ]
     },
     "metadata": {
      "needs_background": "light"
     },
     "output_type": "display_data"
    }
   ],
   "source": [
    "def graficar1(lx,f1,titulo):\n",
    "    plt.figure()  # Comenzamos un nuevo gráfico (figura)\n",
    "    plt.title(titulo)\n",
    "    plt.xlabel(\"Rate\")\n",
    "    plt.ylabel(\"Distosión\")\n",
    "    indice = np.arange(1000)   # Declara un array\n",
    "    #plt.xticks(indice, (\"Q1\", \"B\", \"C\", \"D\", \"E\", \"F\", \"G\", \"H\"))  \n",
    "    plt.plot(lx, f1, 'b.')\n",
    "    #plt.yticks(np.arange(0,1,100))\n",
    "#listaMseYc1.sort() \n",
    "listaMseXc1.sort() \n",
    "listaMseXc1.pop()\n",
    "listaMseYc1.sort(reverse=True)\n",
    "listaMseYc1.pop()\n",
    "graficar1(listaMseXc1,listaMseYc1,\"LL\")\n",
    "print(listaMseXc1)\n",
    "print(listaMseYc1)"
   ]
  },
  {
   "cell_type": "markdown",
   "metadata": {},
   "source": [
    "### 13.- Función para realizar la grafica de la banda \"LH\""
   ]
  },
  {
   "cell_type": "code",
   "execution_count": 15,
   "metadata": {},
   "outputs": [
    {
     "name": "stdout",
     "output_type": "stream",
     "text": [
      "[674, 674, 674, 674, 674, 674, 674, 2338]\n",
      "[3705.255681818182, 3584.5785984848485, 3549.5189393939395, 3506.6439393939395, 3486.9498106060605, 3476.119318181818, 3451.4176136363635, 3429.150568181818]\n"
     ]
    },
    {
     "data": {
      "image/png": "[encoded data removed]",
      "text/plain": [
       "<Figure size 432x288 with 1 Axes>"
      ]
     },
     "metadata": {
      "needs_background": "light"
     },
     "output_type": "display_data"
    }
   ],
   "source": [
    "listaMseXc2.sort()\n",
    "listaMseYc2.sort(reverse=True)\n",
    "graficar1(listaMseXc2,listaMseYc2,\"LH\")\n",
    "print(listaMseXc2)\n",
    "print(listaMseYc2)"
   ]
  },
  {
   "cell_type": "markdown",
   "metadata": {},
   "source": [
    "### 14.- Almacenamos los pares ordenados (R/D) para \"LL y LH\"\n"
   ]
  },
  {
   "cell_type": "code",
   "execution_count": 189,
   "metadata": {},
   "outputs": [],
   "source": [
    "C = 2 # Number of curves\n",
    "# Lists of operational RD (Rate/Distortion) points\n",
    "#listaMseXc1.pop()\n",
    "#listaMseYc1.pop()\n",
    "curve = [None]*C\n",
    "curve[0] =list(zip(listaMseXc1, listaMseYc1)) # (Rate, Distortion)\n",
    "curve[1] = list(zip(listaMseXc2, listaMseYc2))\n"
   ]
  },
  {
   "cell_type": "markdown",
   "metadata": {},
   "source": [
    "### Gráfico  \"LL\"\n"
   ]
  },
  {
   "cell_type": "code",
   "execution_count": 199,
   "metadata": {},
   "outputs": [
    {
     "data": {
      "text/plain": [
       "<matplotlib.collections.PathCollection at 0x7f2d5a9e8e10>"
      ]
     },
     "execution_count": 199,
     "metadata": {},
     "output_type": "execute_result"
    },
    {
     "data": {
      "image/png": "[encoded data removed]",
      "text/plain": [
       "<Figure size 432x288 with 1 Axes>"
      ]
     },
     "metadata": {
      "needs_background": "light"
     },
     "output_type": "display_data"
    }
   ],
   "source": [
    "plt.scatter(*zip(*curve[1]))"
   ]
  },
  {
   "cell_type": "markdown",
   "metadata": {},
   "source": [
    "### Gráfico \"LH\"\n"
   ]
  },
  {
   "cell_type": "code",
   "execution_count": 200,
   "metadata": {},
   "outputs": [
    {
     "data": {
      "image/png": "[encoded data removed]",
      "text/plain": [
       "<Figure size 432x288 with 1 Axes>"
      ]
     },
     "metadata": {
      "needs_background": "light"
     },
     "output_type": "display_data"
    }
   ],
   "source": [
    "plt.scatter(*zip(*curve[0]))\n",
    "plt.show()"
   ]
  },
  {
   "cell_type": "markdown",
   "metadata": {},
   "source": [
    "### Gráfico  \"LL Y LH\""
   ]
  },
  {
   "cell_type": "code",
   "execution_count": 201,
   "metadata": {
    "scrolled": true
   },
   "outputs": [
    {
     "data": {
      "image/png": "[encoded data removed]",
      "text/plain": [
       "<Figure size 432x288 with 1 Axes>"
      ]
     },
     "metadata": {
      "needs_background": "light"
     },
     "output_type": "display_data"
    }
   ],
   "source": [
    "for c in range(2):\n",
    "    plt.scatter(*zip(*curve[c]))\n",
    "plt.show()"
   ]
  },
  {
   "cell_type": "markdown",
   "metadata": {},
   "source": [
    "### 15.- Proceso para \"Bit allocation\""
   ]
  },
  {
   "cell_type": "code",
   "execution_count": 202,
   "metadata": {},
   "outputs": [
    {
     "name": "stdout",
     "output_type": "stream",
     "text": [
      "[(1.4366319444444462, 84, 0), (5.8432765151515014, 6, 0), (3.5729166666666665, 12, 0), (1.1584781639928812, 17, 0), (0.45127051767677057, 24, 0)]\n",
      "[(inf, 0, 1), (inf, 0, 1), (inf, 0, 1), (inf, 0, 1), (inf, 0, 1), (inf, 0, 1), (0.013381637893356668, 1664, 1)]\n"
     ]
    },
    {
     "name": "stderr",
     "output_type": "stream",
     "text": [
      "/root/.local/lib/python3.6/site-packages/ipykernel_launcher.py:8: RuntimeWarning: divide by zero encountered in double_scalars\n",
      "  \n"
     ]
    }
   ],
   "source": [
    "slopes = [None]*C\n",
    "for c in range(C):\n",
    "    # Slopes of each pair of points\n",
    "    slopes[c] = [] \n",
    "    for i in range(len(curve[c])-1):\n",
    "        distortion_decrease = curve[c][i][1] - curve[c][i+1][1]\n",
    "        rate_increase = curve[c][i+1][0] - curve[c][i][0]\n",
    "        slope = distortion_decrease/rate_increase\n",
    "        slopes[c].append((slope, rate_increase, c))\n",
    "    print(slopes[c])\n",
    "\n",
    "\n"
   ]
  },
  {
   "cell_type": "code",
   "execution_count": 203,
   "metadata": {},
   "outputs": [
    {
     "name": "stdout",
     "output_type": "stream",
     "text": [
      "[(1.4366319444444462, 84, 0), (5.8432765151515014, 6, 0), (3.5729166666666665, 12, 0), (1.1584781639928812, 17, 0), (0.45127051767677057, 24, 0), (inf, 0, 1), (inf, 0, 1), (inf, 0, 1), (inf, 0, 1), (inf, 0, 1), (inf, 0, 1), (0.013381637893356668, 1664, 1)]\n"
     ]
    }
   ],
   "source": [
    "total_slopes = []\n",
    "for c in range(C):\n",
    "    total_slopes += slopes[c]\n",
    "print(total_slopes)\n"
   ]
  },
  {
   "cell_type": "code",
   "execution_count": 204,
   "metadata": {},
   "outputs": [
    {
     "name": "stdout",
     "output_type": "stream",
     "text": [
      "[(inf, 0, 1), (inf, 0, 1), (inf, 0, 1), (inf, 0, 1), (inf, 0, 1), (inf, 0, 1), (5.8432765151515014, 6, 0), (3.5729166666666665, 12, 0), (1.4366319444444462, 84, 0), (1.1584781639928812, 17, 0), (0.45127051767677057, 24, 0), (0.013381637893356668, 1664, 1)]\n"
     ]
    }
   ],
   "source": [
    "sorted_slopes = sorted(total_slopes, key=lambda tup: tup[0])[::-1]\n",
    "print(sorted_slopes)"
   ]
  },
  {
   "cell_type": "code",
   "execution_count": 207,
   "metadata": {},
   "outputs": [
    {
     "name": "stdout",
     "output_type": "stream",
     "text": [
      "Optimal progression of RD points = [(inf, 0, 1), (inf, 0, 1), (inf, 0, 1), (inf, 0, 1), (inf, 0, 1), (inf, 0, 1), (5.8432765151515014, 6, 0)]\n",
      "Achieved rate = 6\n",
      "Rate for curve 0 = 6\n",
      "Rate for curve 1 = 0\n"
     ]
    }
   ],
   "source": [
    "R = 6.4# Bit budget\n",
    "spent_br = 0 # Spent bit rate\n",
    "i = 0\n",
    "optimal_progression = []\n",
    "while True:\n",
    "    spent_br += sorted_slopes[i][1]\n",
    "    if spent_br < R:\n",
    "        optimal_progression.append(sorted_slopes[i])\n",
    "    else:\n",
    "        break\n",
    "    i += 1\n",
    "print(\"Optimal progression of RD points =\", optimal_progression)\n",
    "br = sum([i[1] for i in optimal_progression])\n",
    "print(\"Achieved rate =\", br)\n",
    "for c in range(C): # 2 = two curves\n",
    "    br = sum([i[1] for i in optimal_progression if i[2] == c])\n",
    "    print(\"Rate for curve {} = {}\".format(c,br))\n"
   ]
  }
 ],
 "metadata": {
  "kernelspec": {
   "display_name": "Python 3",
   "language": "python",
   "name": "python3"
  },
  "language_info": {
   "codemirror_mode": {
    "name": "ipython",
    "version": 3
   },
   "file_extension": ".py",
   "mimetype": "text/x-python",
   "name": "python",
   "nbconvert_exporter": "python",
   "pygments_lexer": "ipython3",
   "version": "3.6.9"
  }
 },
 "nbformat": 4,
 "nbformat_minor": 2
}
