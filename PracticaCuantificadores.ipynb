{
 "cells": [
  {
   "cell_type": "markdown",
   "metadata": {},
   "source": [
    "# Sistemas Multimedia"
   ]
  },
  {
   "cell_type": "markdown",
   "metadata": {},
   "source": [
    "## Implementar los cuantificadores escalares uniformes midtread, midrise and deadzone"
   ]
  },
  {
   "cell_type": "markdown",
   "metadata": {},
   "source": [
    "## 1.- Importar librerias necesarias para el desarrollo del ejemplo¶"
   ]
  },
  {
   "cell_type": "code",
   "execution_count": 440,
   "metadata": {},
   "outputs": [],
   "source": [
    "\n",
    "import urllib.request\n",
    "import math\n",
    "import cv2\n",
    "import numpy as np\n",
    "from matplotlib import pyplot as plt\n",
    "import skimage.metrics\n",
    "import scipy.stats\n",
    "import os\n",
    "import sys\n",
    "import os.path as pathnuevo\n",
    "import shutil\n"
   ]
  },
  {
   "cell_type": "code",
   "execution_count": 441,
   "metadata": {},
   "outputs": [],
   "source": [
    "for i in [0,1,2]:\n",
    "    directorio= \"/multimedia/imagenescuantificadas\"+str(i)\n",
    "    if pathnuevo.exists(directorio):\n",
    "        #os.rmdir(directorio)\n",
    "        #shutil.rmtree(directorio)\n",
    "        shutil.rmtree(directorio, ignore_errors=True)"
   ]
  },
  {
   "cell_type": "code",
   "execution_count": 442,
   "metadata": {},
   "outputs": [
    {
     "name": "stdout",
     "output_type": "stream",
     "text": [
      "rm -rf /multimedia/imagenescuantificadasbanda00/H*000.png\n",
      "rm -rf /multimedia/imagenescuantificadasbanda00/L*000.png\n",
      "rm -rf /multimedia/imagenescuantificadasbanda01/H*001.png\n",
      "rm -rf /multimedia/imagenescuantificadasbanda01/L*001.png\n",
      "rm -rf /multimedia/imagenescuantificadasbanda02/H*002.png\n",
      "rm -rf /multimedia/imagenescuantificadasbanda02/L*002.png\n",
      "rm -rf /multimedia/imagenescuantificadasbanda03/H*003.png\n",
      "rm -rf /multimedia/imagenescuantificadasbanda03/L*003.png\n",
      "rm -rf /multimedia/imagenescuantificadasbanda04/H*004.png\n",
      "rm -rf /multimedia/imagenescuantificadasbanda04/L*004.png\n",
      "rm -rf /multimedia/imagenescuantificadasbanda05/H*005.png\n",
      "rm -rf /multimedia/imagenescuantificadasbanda05/L*005.png\n",
      "rm -rf /multimedia/imagenescuantificadasbanda06/H*006.png\n",
      "rm -rf /multimedia/imagenescuantificadasbanda06/L*006.png\n",
      "rm -rf /multimedia/imagenescuantificadasbanda07/H*007.png\n",
      "rm -rf /multimedia/imagenescuantificadasbanda07/L*007.png\n",
      "rm -rf /multimedia/imagenescuantificadasbanda10/H*000.png\n",
      "rm -rf /multimedia/imagenescuantificadasbanda10/L*000.png\n",
      "rm -rf /multimedia/imagenescuantificadasbanda11/H*001.png\n",
      "rm -rf /multimedia/imagenescuantificadasbanda11/L*001.png\n",
      "rm -rf /multimedia/imagenescuantificadasbanda12/H*002.png\n",
      "rm -rf /multimedia/imagenescuantificadasbanda12/L*002.png\n",
      "rm -rf /multimedia/imagenescuantificadasbanda13/H*003.png\n",
      "rm -rf /multimedia/imagenescuantificadasbanda13/L*003.png\n",
      "rm -rf /multimedia/imagenescuantificadasbanda14/H*004.png\n",
      "rm -rf /multimedia/imagenescuantificadasbanda14/L*004.png\n",
      "rm -rf /multimedia/imagenescuantificadasbanda15/H*005.png\n",
      "rm -rf /multimedia/imagenescuantificadasbanda15/L*005.png\n",
      "rm -rf /multimedia/imagenescuantificadasbanda16/H*006.png\n",
      "rm -rf /multimedia/imagenescuantificadasbanda16/L*006.png\n",
      "rm -rf /multimedia/imagenescuantificadasbanda17/H*007.png\n",
      "rm -rf /multimedia/imagenescuantificadasbanda17/L*007.png\n",
      "rm -rf /multimedia/imagenescuantificadasbanda20/H*000.png\n",
      "rm -rf /multimedia/imagenescuantificadasbanda20/L*000.png\n",
      "rm -rf /multimedia/imagenescuantificadasbanda21/H*001.png\n",
      "rm -rf /multimedia/imagenescuantificadasbanda21/L*001.png\n",
      "rm -rf /multimedia/imagenescuantificadasbanda22/H*002.png\n",
      "rm -rf /multimedia/imagenescuantificadasbanda22/L*002.png\n",
      "rm -rf /multimedia/imagenescuantificadasbanda23/H*003.png\n",
      "rm -rf /multimedia/imagenescuantificadasbanda23/L*003.png\n",
      "rm -rf /multimedia/imagenescuantificadasbanda24/H*004.png\n",
      "rm -rf /multimedia/imagenescuantificadasbanda24/L*004.png\n",
      "rm -rf /multimedia/imagenescuantificadasbanda25/H*005.png\n",
      "rm -rf /multimedia/imagenescuantificadasbanda25/L*005.png\n",
      "rm -rf /multimedia/imagenescuantificadasbanda26/H*006.png\n",
      "rm -rf /multimedia/imagenescuantificadasbanda26/L*006.png\n",
      "rm -rf /multimedia/imagenescuantificadasbanda27/H*007.png\n",
      "rm -rf /multimedia/imagenescuantificadasbanda27/L*007.png\n"
     ]
    }
   ],
   "source": [
    "for i in [0,1,2]:\n",
    "    for j in [0,1,2,3,4,5,6,7]:\n",
    "        comand= \"rm -rf /multimedia/imagenescuantificadasbanda\"+str(i)+str(j)+\"/H*00\"+str(j)+\".png\"\n",
    "        print(comand)\n",
    "        os.system(comand)\n",
    "        comand= \"rm -rf /multimedia/imagenescuantificadasbanda\"+str(i)+str(j)+\"/L*00\"+str(j)+\".png\"\n",
    "        print(comand)\n",
    "        os.system(comand)"
   ]
  },
  {
   "cell_type": "code",
   "execution_count": 443,
   "metadata": {},
   "outputs": [],
   "source": [
    "def quantificacion(i):\n",
    "    print (i)\n",
    "    q_step=\"120\"\n",
    "    directorio= \"/multimedia/imagenescuantificadas\"+str(i)\n",
    "    os.makedirs(directorio)\n",
    "    path=\"python3 ../tools/quantize.py -i /multimedia/imagenestransformadamcdwt/LL000.png -o \"+directorio+\"/LL000.png -q \"+str(q_step)+\" -c \"+str(i) \n",
    "    os.system(path)\n",
    "    path=\"python3 ../tools/quantize.py -i /multimedia/imagenestransformadamcdwt/LH000.png -o \"+directorio+\"/LH000.png -q\" +str(q_step)+\" -c \"+str(i) \n",
    "    os.system(path)\n",
    "    path=\"python3 ../tools/quantize.py -i /multimedia/imagenestransformadamcdwt/HL000.png -o \"+directorio+\"/HL000.png -q\" +str(q_step)+\" -c \"+str(i) \n",
    "    os.system(path)\n",
    "    path=\"python3 ../tools/quantize.py -i /multimedia/imagenestransformadamcdwt/HH000.png -o \"+directorio+\"/HH000.png -q\" +str(q_step)+\" -c \"+str(i) \n",
    "    os.system(path)\n",
    "    path=\"python3 ../tools/quantize.py -i /multimedia/imagenestransformadamcdwt/LL001.png -o \"+directorio+\"/LL001.png -q\" +str(q_step)+\" -c \"+str(i) \n",
    "    os.system(path)\n",
    "    path=\"python3 ../tools/quantize.py -i /multimedia/imagenestransformadamcdwt/LH001.png -o \"+directorio+\"/LH001.png -q\" +str(q_step)+\" -c \"+str(i) \n",
    "    os.system(path)\n",
    "    path=\"python3 ../tools/quantize.py -i /multimedia/imagenestransformadamcdwt/HL001.png -o \"+directorio+\"/HL001.png -q\" +str(q_step)+\" -c \"+str(i) \n",
    "    os.system(path)\n",
    "    path=\"python3 ../tools/quantize.py -i /multimedia/imagenestransformadamcdwt/HH001.png -o \"+directorio+\"/HH001.png -q\" +str(q_step)+\" -c \"+str(i) \n",
    "    os.system(path)\n",
    "    path=\"python3 ../tools/quantize.py -i /multimedia/imagenestransformadamcdwt/LL002.png -o \"+directorio+\"/LL002.png -q\" +str(q_step)+\" -c \"+str(i) \n",
    "    os.system(path)\n",
    "    path=\"python3 ../tools/quantize.py -i /multimedia/imagenestransformadamcdwt/LH002.png -o \"+directorio+\"/LH002.png -q\" +str(q_step)+\" -c \"+str(i) \n",
    "    os.system(path)\n",
    "    path=\"python3 ../tools/quantize.py -i /multimedia/imagenestransformadamcdwt/HL002.png -o \"+directorio+\"/HL002.png -q\" +str(q_step)+\" -c \"+str(i) \n",
    "    os.system(path)\n",
    "    path=\"python3 ../tools/quantize.py -i /multimedia/imagenestransformadamcdwt/HH002.png -o \"+directorio+\"/HH002.png -q\" +str(q_step)+\" -c \"+str(i) \n",
    "    os.system(path)\n",
    "    path=\"python3 ../tools/quantize.py -i /multimedia/imagenestransformadamcdwt/LL003.png -o \"+directorio+\"/LL003.png -q\" +str(q_step)+\" -c \"+str(i) \n",
    "    os.system(path)\n",
    "    path=\"python3 ../tools/quantize.py -i /multimedia/imagenestransformadamcdwt/LH003.png -o \"+directorio+\"/LH003.png -q\" +str(q_step)+\" -c \"+str(i) \n",
    "    os.system(path)\n",
    "    path=\"python3 ../tools/quantize.py -i /multimedia/imagenestransformadamcdwt/HL003.png -o \"+directorio+\"/HL003.png -q\" +str(q_step)+\" -c \"+str(i) \n",
    "    os.system(path)\n",
    "    path=\"python3 ../tools/quantize.py -i /multimedia/imagenestransformadamcdwt/HH003.png -o \"+directorio+\"/HH003.png -q\" +str(q_step)+\" -c \"+str(i) \n",
    "    os.system(path)\n",
    "    path=\"python3 ../tools/quantize.py -i /multimedia/imagenestransformadamcdwt/LL004.png -o \"+directorio+\"/LL004.png -q\" +str(q_step)+\" -c \"+str(i) \n",
    "    os.system(path)\n",
    "    path=\"python3 ../tools/quantize.py -i /multimedia/imagenestransformadamcdwt/LH004.png -o \"+directorio+\"/LH004.png -q\" +str(q_step)+\" -c \"+str(i) \n",
    "    os.system(path)\n",
    "    path=\"python3 ../tools/quantize.py -i /multimedia/imagenestransformadamcdwt/HL004.png -o \"+directorio+\"/HL004.png -q\" +str(q_step)+\" -c \"+str(i) \n",
    "    os.system(path)\n",
    "    path=\"python3 ../tools/quantize.py -i /multimedia/imagenestransformadamcdwt/HH004.png -o \"+directorio+\"/HH004.png -q\" +str(q_step)+\" -c \"+str(i) \n",
    "    os.system(path)\n",
    "    path=\"python3 ../tools/quantize.py -i /multimedia/imagenestransformadamcdwt/LL005.png -o \"+directorio+\"/LL005.png -q\" +str(q_step)+\" -c \"+str(i) \n",
    "    os.system(path)\n",
    "    path=\"python3 ../tools/quantize.py -i /multimedia/imagenestransformadamcdwt/LH005.png -o \"+directorio+\"/LH005.png -q\" +str(q_step)+\" -c \"+str(i) \n",
    "    os.system(path)\n",
    "    path=\"python3 ../tools/quantize.py -i /multimedia/imagenestransformadamcdwt/HL005.png -o \"+directorio+\"/HL005.png -q\" +str(q_step)+\" -c \"+str(i) \n",
    "    os.system(path)\n",
    "    path=\"python3 ../tools/quantize.py -i /multimedia/imagenestransformadamcdwt/HH005.png -o \"+directorio+\"/HH005.png -q\" +str(q_step)+\" -c \"+str(i) \n",
    "    os.system(path)\n",
    "    path=\"python3 ../tools/quantize.py -i /multimedia/imagenestransformadamcdwt/LL006.png -o \"+directorio+\"/LL006.png -q\" +str(q_step)+\" -c \"+str(i) \n",
    "    os.system(path)\n",
    "    path=\"python3 ../tools/quantize.py -i /multimedia/imagenestransformadamcdwt/LH006.png -o \"+directorio+\"/LH006.png -q\" +str(q_step)+\" -c \"+str(i) \n",
    "    os.system(path)\n",
    "    path=\"python3 ../tools/quantize.py -i /multimedia/imagenestransformadamcdwt/HL006.png -o \"+directorio+\"/HL006.png -q\" +str(q_step)+\" -c \"+str(i) \n",
    "    os.system(path)\n",
    "    path=\"python3 ../tools/quantize.py -i /multimedia/imagenestransformadamcdwt/HH006.png -o \"+directorio+\"/HH006.png -q\" +str(q_step)+\" -c \"+str(i) \n",
    "    os.system(path)\n",
    "    path=\"python3 ../tools/quantize.py -i /multimedia/imagenestransformadamcdwt/LL007.png -o \"+directorio+\"/LL007.png -q\" +str(q_step)+\" -c \"+str(i) \n",
    "    os.system(path)\n",
    "    path=\"python3 ../tools/quantize.py -i /multimedia/imagenestransformadamcdwt/LH007.png -o \"+directorio+\"/LH007.png -q\" +str(q_step)+\" -c \"+str(i) \n",
    "    os.system(path)\n",
    "    path=\"python3 ../tools/quantize.py -i /multimedia/imagenestransformadamcdwt/HL007.png -o \"+directorio+\"/HL007.png -q\" +str(q_step)+\" -c \"+str(i) \n",
    "    os.system(path)\n",
    "    path=\"python3 ../tools/quantize.py -i /multimedia/imagenestransformadamcdwt/HH007.png -o \"+directorio+\"/HH007.png -q\" +str(q_step)+\" -c \"+str(i) \n",
    "    os.system(path)"
   ]
  },
  {
   "cell_type": "code",
   "execution_count": 444,
   "metadata": {},
   "outputs": [
    {
     "name": "stdout",
     "output_type": "stream",
     "text": [
      "0\n",
      "1\n",
      "2\n"
     ]
    }
   ],
   "source": [
    "for i in [0,1,2]:\n",
    "    quantificacion(i)"
   ]
  },
  {
   "cell_type": "code",
   "execution_count": 445,
   "metadata": {},
   "outputs": [
    {
     "name": "stdout",
     "output_type": "stream",
     "text": [
      "python3 -O MCDWT.py -P 2-p /multimedia/imagenescuantificadas0/ -b -N 7\n",
      "python3 -O MCDWT.py -P 2-p /multimedia/imagenescuantificadas1/ -b -N 7\n",
      "python3 -O MCDWT.py -P 2-p /multimedia/imagenescuantificadas2/ -b -N 7\n"
     ]
    }
   ],
   "source": [
    "for i in [0,1,2]:\n",
    "    predictor=2\n",
    "    directorion= \"/multimedia/imagenescuantificadas\"+str(i)\n",
    "    path2=\"python3 -O MCDWT.py -P \"+str(predictor)+ \"-p \"+directorion+\"/ -b -N 7\" \n",
    "    print (path2)\n",
    "    os.system(path2)"
   ]
  },
  {
   "cell_type": "code",
   "execution_count": 446,
   "metadata": {},
   "outputs": [
    {
     "name": "stdout",
     "output_type": "stream",
     "text": [
      "python3 -O MDWT.py -p /multimedia/imagenescuantificadas0/ -b -N 8\n",
      "python3 -O MDWT.py -p /multimedia/imagenescuantificadas1/ -b -N 8\n",
      "python3 -O MDWT.py -p /multimedia/imagenescuantificadas2/ -b -N 8\n"
     ]
    }
   ],
   "source": [
    "for i in [0,1,2]:\n",
    "    directorionn= \"/multimedia/imagenescuantificadas\"+str(i)\n",
    "    path3=\"python3 -O MDWT.py -p \"+directorionn+\"/ -b -N 8\"\n",
    "    print (path3)\n",
    "    os.system(path3)"
   ]
  },
  {
   "cell_type": "code",
   "execution_count": 419,
   "metadata": {},
   "outputs": [
    {
     "name": "stdout",
     "output_type": "stream",
     "text": [
      "/multimedia/imagenesoriginales/000.png\n",
      "/multimedia/imagenesoriginales/001.png\n",
      "/multimedia/imagenesoriginales/002.png\n",
      "/multimedia/imagenesoriginales/003.png\n",
      "/multimedia/imagenesoriginales/004.png\n",
      "/multimedia/imagenesoriginales/005.png\n",
      "/multimedia/imagenesoriginales/006.png\n",
      "/multimedia/imagenesoriginales/007.png\n"
     ]
    }
   ],
   "source": [
    "listaImgsEjex=[]\n",
    "for i in [0,1,2,3,4,5,6,7]:\n",
    "    path = r'/multimedia/imagenesoriginales/00'+str(i)+'.png'\n",
    "    print (path)\n",
    "    listaImgsEjex=cv2.imread(path)\n",
    "    #plt.imshow(listaImgsEjex[i], cmap=\"gray\")"
   ]
  },
  {
   "cell_type": "code",
   "execution_count": 420,
   "metadata": {},
   "outputs": [
    {
     "name": "stdout",
     "output_type": "stream",
     "text": [
      "cp -r /multimedia/imagenescuantificadas0/L*000.png /multimedia/imagenescuantificadasbanda00/\n",
      "cp -r /multimedia/imagenescuantificadas0/H*000.png /multimedia/imagenescuantificadasbanda00/\n",
      "cp -r /multimedia/imagenescuantificadas0/L*001.png /multimedia/imagenescuantificadasbanda01/\n",
      "cp -r /multimedia/imagenescuantificadas0/H*001.png /multimedia/imagenescuantificadasbanda01/\n",
      "cp -r /multimedia/imagenescuantificadas0/L*002.png /multimedia/imagenescuantificadasbanda02/\n",
      "cp -r /multimedia/imagenescuantificadas0/H*002.png /multimedia/imagenescuantificadasbanda02/\n",
      "cp -r /multimedia/imagenescuantificadas0/L*003.png /multimedia/imagenescuantificadasbanda03/\n",
      "cp -r /multimedia/imagenescuantificadas0/H*003.png /multimedia/imagenescuantificadasbanda03/\n",
      "cp -r /multimedia/imagenescuantificadas0/L*004.png /multimedia/imagenescuantificadasbanda04/\n",
      "cp -r /multimedia/imagenescuantificadas0/H*004.png /multimedia/imagenescuantificadasbanda04/\n",
      "cp -r /multimedia/imagenescuantificadas0/L*005.png /multimedia/imagenescuantificadasbanda05/\n",
      "cp -r /multimedia/imagenescuantificadas0/H*005.png /multimedia/imagenescuantificadasbanda05/\n",
      "cp -r /multimedia/imagenescuantificadas0/L*006.png /multimedia/imagenescuantificadasbanda06/\n",
      "cp -r /multimedia/imagenescuantificadas0/H*006.png /multimedia/imagenescuantificadasbanda06/\n",
      "cp -r /multimedia/imagenescuantificadas0/L*007.png /multimedia/imagenescuantificadasbanda07/\n",
      "cp -r /multimedia/imagenescuantificadas0/H*007.png /multimedia/imagenescuantificadasbanda07/\n",
      "cp -r /multimedia/imagenescuantificadas1/L*000.png /multimedia/imagenescuantificadasbanda10/\n",
      "cp -r /multimedia/imagenescuantificadas1/H*000.png /multimedia/imagenescuantificadasbanda10/\n",
      "cp -r /multimedia/imagenescuantificadas1/L*001.png /multimedia/imagenescuantificadasbanda11/\n",
      "cp -r /multimedia/imagenescuantificadas1/H*001.png /multimedia/imagenescuantificadasbanda11/\n",
      "cp -r /multimedia/imagenescuantificadas1/L*002.png /multimedia/imagenescuantificadasbanda12/\n",
      "cp -r /multimedia/imagenescuantificadas1/H*002.png /multimedia/imagenescuantificadasbanda12/\n",
      "cp -r /multimedia/imagenescuantificadas1/L*003.png /multimedia/imagenescuantificadasbanda13/\n",
      "cp -r /multimedia/imagenescuantificadas1/H*003.png /multimedia/imagenescuantificadasbanda13/\n",
      "cp -r /multimedia/imagenescuantificadas1/L*004.png /multimedia/imagenescuantificadasbanda14/\n",
      "cp -r /multimedia/imagenescuantificadas1/H*004.png /multimedia/imagenescuantificadasbanda14/\n",
      "cp -r /multimedia/imagenescuantificadas1/L*005.png /multimedia/imagenescuantificadasbanda15/\n",
      "cp -r /multimedia/imagenescuantificadas1/H*005.png /multimedia/imagenescuantificadasbanda15/\n",
      "cp -r /multimedia/imagenescuantificadas1/L*006.png /multimedia/imagenescuantificadasbanda16/\n",
      "cp -r /multimedia/imagenescuantificadas1/H*006.png /multimedia/imagenescuantificadasbanda16/\n",
      "cp -r /multimedia/imagenescuantificadas1/L*007.png /multimedia/imagenescuantificadasbanda17/\n",
      "cp -r /multimedia/imagenescuantificadas1/H*007.png /multimedia/imagenescuantificadasbanda17/\n",
      "cp -r /multimedia/imagenescuantificadas2/L*000.png /multimedia/imagenescuantificadasbanda20/\n",
      "cp -r /multimedia/imagenescuantificadas2/H*000.png /multimedia/imagenescuantificadasbanda20/\n",
      "cp -r /multimedia/imagenescuantificadas2/L*001.png /multimedia/imagenescuantificadasbanda21/\n",
      "cp -r /multimedia/imagenescuantificadas2/H*001.png /multimedia/imagenescuantificadasbanda21/\n",
      "cp -r /multimedia/imagenescuantificadas2/L*002.png /multimedia/imagenescuantificadasbanda22/\n",
      "cp -r /multimedia/imagenescuantificadas2/H*002.png /multimedia/imagenescuantificadasbanda22/\n",
      "cp -r /multimedia/imagenescuantificadas2/L*003.png /multimedia/imagenescuantificadasbanda23/\n",
      "cp -r /multimedia/imagenescuantificadas2/H*003.png /multimedia/imagenescuantificadasbanda23/\n",
      "cp -r /multimedia/imagenescuantificadas2/L*004.png /multimedia/imagenescuantificadasbanda24/\n",
      "cp -r /multimedia/imagenescuantificadas2/H*004.png /multimedia/imagenescuantificadasbanda24/\n",
      "cp -r /multimedia/imagenescuantificadas2/L*005.png /multimedia/imagenescuantificadasbanda25/\n",
      "cp -r /multimedia/imagenescuantificadas2/H*005.png /multimedia/imagenescuantificadasbanda25/\n",
      "cp -r /multimedia/imagenescuantificadas2/L*006.png /multimedia/imagenescuantificadasbanda26/\n",
      "cp -r /multimedia/imagenescuantificadas2/H*006.png /multimedia/imagenescuantificadasbanda26/\n",
      "cp -r /multimedia/imagenescuantificadas2/L*007.png /multimedia/imagenescuantificadasbanda27/\n",
      "cp -r /multimedia/imagenescuantificadas2/H*007.png /multimedia/imagenescuantificadasbanda27/\n"
     ]
    }
   ],
   "source": [
    "for i in [0,1,2]:\n",
    "    for j in [0,1,2,3,4,5,6,7]:\n",
    "        comand= \"cp -r /multimedia/imagenescuantificadas\"+str(i)+\"/L*00\"+str(j)+\".png /multimedia/imagenescuantificadasbanda\"+str(i)+str(j)+\"/\"\n",
    "        print(comand)\n",
    "        os.system(comand)\n",
    "        comand= \"cp -r /multimedia/imagenescuantificadas\"+str(i)+\"/H*00\"+str(j)+\".png /multimedia/imagenescuantificadasbanda\"+str(i)+str(j)+\"/\"\n",
    "        os.system(comand)\n",
    "        print (comand)"
   ]
  },
  {
   "cell_type": "code",
   "execution_count": 421,
   "metadata": {},
   "outputs": [
    {
     "name": "stdout",
     "output_type": "stream",
     "text": [
      "17766\n"
     ]
    }
   ],
   "source": [
    "def get_dir_size(the_path):\n",
    "    \"\"\"Get size of a directory tree in bytes.\"\"\"\n",
    "    path_size = 0\n",
    "    for path, dirs, files in os.walk(the_path):\n",
    "        for fil in files:\n",
    "            filename = os.path.join(path, fil)\n",
    "            path_size += os.path.getsize(filename)\n",
    "    return path_size\n",
    "#tmoriginal = get_dir_size('/multimedia/imagenescuantificadasbanda02/')\n",
    "print(tmoriginal)"
   ]
  },
  {
   "cell_type": "code",
   "execution_count": 422,
   "metadata": {},
   "outputs": [],
   "source": [
    "listaMseXc1=[]\n",
    "listaMseXc2=[]\n",
    "listaMseXc3=[]\n",
    "listaMseYc1=[]\n",
    "listaMseYc2=[]\n",
    "listaMseYc3=[]"
   ]
  },
  {
   "cell_type": "code",
   "execution_count": 423,
   "metadata": {},
   "outputs": [
    {
     "name": "stdout",
     "output_type": "stream",
     "text": [
      "/multimedia/imagenescuantificadasbanda00/\n",
      "27775\n",
      "/multimedia/imagenescuantificadasbanda01/\n",
      "26725\n",
      "/multimedia/imagenescuantificadasbanda02/\n",
      "26654\n",
      "/multimedia/imagenescuantificadasbanda03/\n",
      "26662\n",
      "/multimedia/imagenescuantificadasbanda04/\n",
      "27951\n",
      "/multimedia/imagenescuantificadasbanda05/\n",
      "26720\n",
      "/multimedia/imagenescuantificadasbanda06/\n",
      "27856\n",
      "/multimedia/imagenescuantificadasbanda07/\n",
      "27906\n",
      "/multimedia/imagenescuantificadasbanda10/\n",
      "137242\n",
      "/multimedia/imagenescuantificadasbanda11/\n",
      "135067\n",
      "/multimedia/imagenescuantificadasbanda12/\n",
      "135515\n",
      "/multimedia/imagenescuantificadasbanda13/\n",
      "134461\n",
      "/multimedia/imagenescuantificadasbanda14/\n",
      "137482\n",
      "/multimedia/imagenescuantificadasbanda15/\n",
      "134399\n",
      "/multimedia/imagenescuantificadasbanda16/\n",
      "137408\n",
      "/multimedia/imagenescuantificadasbanda17/\n",
      "137186\n",
      "/multimedia/imagenescuantificadasbanda20/\n",
      "17589\n",
      "/multimedia/imagenescuantificadasbanda21/\n",
      "17647\n",
      "/multimedia/imagenescuantificadasbanda22/\n",
      "17766\n",
      "/multimedia/imagenescuantificadasbanda23/\n",
      "17737\n",
      "/multimedia/imagenescuantificadasbanda24/\n",
      "17820\n",
      "/multimedia/imagenescuantificadasbanda25/\n",
      "17799\n",
      "/multimedia/imagenescuantificadasbanda26/\n",
      "17831\n",
      "/multimedia/imagenescuantificadasbanda27/\n",
      "17879\n",
      "Dominio de imagen MSE X C1 [27775, 26725, 26654, 26662, 27951, 26720, 27856, 27906]\n",
      "Dominio de imagen MSE X C2 [137242, 135067, 135515, 134461, 137482, 134399, 137408, 137186]\n",
      "Dominio de imagen MSE X C3 [17589, 17647, 17766, 17737, 17820, 17799, 17831, 17879]\n",
      "Dominio de imagen MSE Y C1 [3429.150568181818, 3451.4176136363635, 3476.119318181818, 3486.9498106060605, 3506.6439393939395, 3549.5189393939395, 3584.5785984848485, 3705.255681818182]\n",
      "Dominio de imagen MSE Y C2 [3406.4479166666665, 3422.878787878788, 3449.8854166666665, 3461.7291666666665, 3483.941287878788, 3526.6979166666665, 3560.3664772727275, 3681.5776515151515]\n",
      "Dominio de imagen MSE Y C2 [3429.150568181818, 3451.4176136363635, 3476.119318181818, 3486.9498106060605, 3506.6439393939395, 3549.5189393939395, 3584.5785984848485, 3705.255681818182]\n"
     ]
    }
   ],
   "source": [
    "for i in [0,1,2]:\n",
    "    for j in [0,1,2,3,4,5,6,7]:\n",
    "        pathc = \"/multimedia/imagenescuantificadas\"+str(i)+\"/00\"+str(j)+\".png\"\n",
    "        y = cv2.imread(pathc)[0,:,:]\n",
    "        x = listaImgsEjex[j]\n",
    "        MSE = skimage.metrics.mean_squared_error(x,y)\n",
    "        path = \"/multimedia/imagenescuantificadasbanda\"+str(i)+str(j)+\"/\"\n",
    "        print (path)\n",
    "        #sizefile = os.path.getsize(pathb)\n",
    "        #listaMSEx.append(sizefile/1000)\n",
    "        tmcuantificada = get_dir_size(path)\n",
    "        print(tmcuantificada)\n",
    "        if i == 0:\n",
    "            listaMseXc1.append(tmcuantificada)\n",
    "            listaMseYc1.append(MSE)\n",
    "        elif i == 1:\n",
    "            listaMseXc2.append(tmcuantificada) \n",
    "            listaMseYc2.append(MSE)\n",
    "        else:\n",
    "            listaMseXc3.append(tmcuantificada) \n",
    "            listaMseYc3.append(MSE)\n",
    "print(\"Dominio de imagen MSE X C1\",listaMseXc1)\n",
    "print(\"Dominio de imagen MSE X C2\",listaMseXc2)\n",
    "print(\"Dominio de imagen MSE X C3\",listaMseXc3)\n",
    "print(\"Dominio de imagen MSE Y C1\",listaMseYc1)\n",
    "print(\"Dominio de imagen MSE Y C2\",listaMseYc2)\n",
    "print(\"Dominio de imagen MSE Y C2\",listaMseYc3)"
   ]
  },
  {
   "cell_type": "code",
   "execution_count": 424,
   "metadata": {},
   "outputs": [
    {
     "name": "stdout",
     "output_type": "stream",
     "text": [
      "[3429.150568181818, 3451.4176136363635, 3476.119318181818, 3486.9498106060605, 3506.6439393939395, 3549.5189393939395, 3584.5785984848485, 3705.255681818182]\n"
     ]
    },
    {
     "data": {
      "image/png": "[encoded data removed]",
      "text/plain": [
       "<Figure size 432x288 with 1 Axes>"
      ]
     },
     "metadata": {
      "needs_background": "light"
     },
     "output_type": "display_data"
    }
   ],
   "source": [
    "def graficar(lx,f1,f2,f3, titulo):\n",
    "    plt.figure()  # Comenzamos un nuevo gráfico (figura)\n",
    "    plt.title(titulo)\n",
    "    plt.xlabel(\"abscisa\")\n",
    "    plt.ylabel(\"ordenada\")\n",
    "    #indice = np.arange(8)   # Declara un array\n",
    "    #plt.xticks(indice, (\"A\", \"B\", \"C\", \"D\", \"E\", \"F\", \"G\", \"H\"))  \n",
    "    plt.plot(lx, f1, 'b', lx, f2, 'rd', lx, f3, 'g^')\n",
    "    #plt.yticks(np.arange(0,100,100))\n",
    "    \n",
    "def graficar1(lx,f1,titulo):\n",
    "    plt.figure()  # Comenzamos un nuevo gráfico (figura)\n",
    "    plt.title(titulo)\n",
    "    plt.xlabel(\"abscisa\")\n",
    "    plt.ylabel(\"ordenada\")\n",
    "    indice = np.arange(1000)   # Declara un array\n",
    "    #plt.xticks(indice, (\"Q1\", \"B\", \"C\", \"D\", \"E\", \"F\", \"G\", \"H\"))  \n",
    "    plt.plot(lx, f1, 'b.')\n",
    "    #plt.yticks(np.arange(0,1,100))\n",
    "#listaMseYc1.sort() \n",
    "listaMseXc1.sort(reverse=True) \n",
    "#listaMseYc1.sort(reverse=True)\n",
    "graficar1(listaMseXc1,listaMseYc1,\"MIDTREAD\")\n",
    "print(listaMseYc1)"
   ]
  },
  {
   "cell_type": "code",
   "execution_count": 425,
   "metadata": {},
   "outputs": [
    {
     "data": {
      "image/png": "[encoded data removed]",
      "text/plain": [
       "<Figure size 432x288 with 1 Axes>"
      ]
     },
     "metadata": {
      "needs_background": "light"
     },
     "output_type": "display_data"
    }
   ],
   "source": [
    "listaMseXc2.sort(reverse=True)\n",
    "graficar1(listaMseXc2,listaMseYc2,\"MIDRISE\")"
   ]
  },
  {
   "cell_type": "code",
   "execution_count": 426,
   "metadata": {},
   "outputs": [
    {
     "data": {
      "image/png": "[encoded data removed]",
      "text/plain": [
       "<Figure size 432x288 with 1 Axes>"
      ]
     },
     "metadata": {
      "needs_background": "light"
     },
     "output_type": "display_data"
    }
   ],
   "source": [
    "listaMseXc3.sort(reverse=True)\n",
    "\n",
    "graficar1(listaMseXc3,listaMseYc3,\"DEADZONE\")"
   ]
  }
 ],
 "metadata": {
  "kernelspec": {
   "display_name": "Python 3",
   "language": "python",
   "name": "python3"
  },
  "language_info": {
   "codemirror_mode": {
    "name": "ipython",
    "version": 3
   },
   "file_extension": ".py",
   "mimetype": "text/x-python",
   "name": "python",
   "nbconvert_exporter": "python",
   "pygments_lexer": "ipython3",
   "version": "3.6.9"
  }
 },
 "nbformat": 4,
 "nbformat_minor": 2
}
